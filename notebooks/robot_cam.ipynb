{
 "cells": [
  {
   "cell_type": "code",
   "execution_count": 29,
   "id": "initial_id",
   "metadata": {
    "collapsed": true,
    "ExecuteTime": {
     "end_time": "2024-01-27T23:47:06.973583900Z",
     "start_time": "2024-01-27T23:47:06.959569300Z"
    }
   },
   "outputs": [],
   "source": [
    "from wpimath.geometry import Pose3d, Translation3d, Rotation3d, Transform3d\n",
    "import wpimath.units as units\n",
    "import matplotlib.pyplot as plt\n"
   ]
  },
  {
   "cell_type": "code",
   "outputs": [],
   "source": [
    "translation = Translation3d(5,10,0)\n",
    "rotation = Rotation3d()\n",
    "robot = Pose3d(translation, rotation)\n",
    "\n",
    "cam_to_robot_trans = Translation3d(\n",
    "    units.inchesToMeters(2.54300), units.inchesToMeters(11.57), units.inchesToMeters(13.207))\n",
    "cam_to_robot_rot = Rotation3d(\n",
    "    units.degreesToRadians(-90.0), units.degreesToRadians(-25.0), units.degreesToRadians(15.0))\n",
    "camera_to_robot = Transform3d(cam_to_robot_trans, cam_to_robot_rot)"
   ],
   "metadata": {
    "collapsed": false,
    "ExecuteTime": {
     "end_time": "2024-01-27T23:47:07.008253500Z",
     "start_time": "2024-01-27T23:47:06.969504Z"
    }
   },
   "id": "c8dbbf90145982e1",
   "execution_count": 30
  },
  {
   "cell_type": "code",
   "outputs": [
    {
     "ename": "TypeError",
     "evalue": "unsupported operand type(s) for *: 'wpimath.geometry._geometry.Transform3d' and 'wpimath.geometry._geometry.Pose3d'",
     "output_type": "error",
     "traceback": [
      "\u001B[1;31m---------------------------------------------------------------------------\u001B[0m",
      "\u001B[1;31mTypeError\u001B[0m                                 Traceback (most recent call last)",
      "Cell \u001B[1;32mIn[31], line 29\u001B[0m\n\u001B[0;32m     26\u001B[0m note_to_camera \u001B[38;5;241m=\u001B[39m Pose3d(note_to_camera_trans, note_to_camera_rot)\n\u001B[0;32m     28\u001B[0m \u001B[38;5;66;03m# Add camera-to-note transformation to camera to robot transformation to get robot to note transformation\u001B[39;00m\n\u001B[1;32m---> 29\u001B[0m robot_to_note \u001B[38;5;241m=\u001B[39m \u001B[43mrobot_to_camera\u001B[49m\u001B[43m \u001B[49m\u001B[38;5;241;43m*\u001B[39;49m\u001B[43m \u001B[49m\u001B[43mnote_to_camera\u001B[49m\n\u001B[0;32m     31\u001B[0m \u001B[38;5;66;03m# Transform robot pose by robot to note, to get the note's position\u001B[39;00m\n\u001B[0;32m     32\u001B[0m note_pose \u001B[38;5;241m=\u001B[39m robot_pose \u001B[38;5;241m+\u001B[39m robot_to_note\n",
      "\u001B[1;31mTypeError\u001B[0m: unsupported operand type(s) for *: 'wpimath.geometry._geometry.Transform3d' and 'wpimath.geometry._geometry.Pose3d'"
     ]
    }
   ],
   "source": [
    "# Find robot pose\n",
    "robot_pose = robot\n",
    "# Find camera to robot transformation\n",
    "robot_to_camera = camera_to_robot.inverse()\n",
    "# Find camera-to-note transformation using PhotonVision data\n",
    "note_yaw = units.degreesToRadians(10.0)\n",
    "note_pitch = units.degreesToRadians(5.0)\n",
    "note_skew = units.degreesToRadians(2.0)\n",
    "\n",
    "note_center_x = 100\n",
    "note_center_y = 90\n",
    "note_depth = 1.5  # meters\n",
    "\n",
    "camera_image_width = 10\n",
    "camera_image_height = 5\n",
    "\n",
    "# Convert pixel coordinates to meters \n",
    "pixel_to_meter_conversion = 0.02\n",
    "note_x = (note_center_x - camera_image_width / 2) * pixel_to_meter_conversion\n",
    "note_y = (note_center_y - camera_image_height / 2) * pixel_to_meter_conversion\n",
    "\n",
    "# Translation vector\n",
    "note_to_camera_trans = Translation3d(note_x, note_y, note_depth)\n",
    "\n",
    "note_to_camera_rot = Rotation3d(note_yaw, note_pitch, note_skew)\n",
    "note_to_camera = Pose3d(note_to_camera_trans, note_to_camera_rot)\n",
    "\n",
    "# Add camera-to-note transformation to camera to robot transformation to get robot to note transformation\n",
    "robot_to_note = robot_to_camera * note_to_camera\n",
    "\n",
    "# Transform robot pose by robot to note, to get the note's position\n",
    "note_pose = robot_pose + robot_to_note\n",
    "\n",
    "print(\"Note Position (x, y, z):\", note_pose.translation().x(), note_pose.translation().y(), note_pose.translation().z())\n"
   ],
   "metadata": {
    "collapsed": false,
    "ExecuteTime": {
     "end_time": "2024-01-27T23:47:07.024536900Z",
     "start_time": "2024-01-27T23:47:06.983487900Z"
    }
   },
   "id": "a285dc32f978d171",
   "execution_count": 31
  },
  {
   "cell_type": "code",
   "outputs": [],
   "source": [
    "\n",
    "# Plot the robot and note poses\n",
    "fig = plt.figure()\n",
    "ax = fig.add_subplot(111, projection='3d')\n",
    "\n",
    "# Plot robot pose\n",
    "ax.scatter(robot_pose.translation().x(), robot_pose.translation().y(), robot_pose.translation().z(), c='b', label='Robot')\n",
    "\n",
    "# Plot note pose\n",
    "ax.scatter(note_pose.translation().x(), note_pose.translation().y(), note_pose.translation().z(), c='r', label='Note')\n",
    "\n",
    "ax.set_xlabel('X-axis')\n",
    "ax.set_ylabel('Y-axis')\n",
    "ax.set_zlabel('Z-axis')\n",
    "ax.legend()\n",
    "plt.show()\n"
   ],
   "metadata": {
    "collapsed": false,
    "ExecuteTime": {
     "start_time": "2024-01-27T23:47:07.020389300Z"
    }
   },
   "id": "57c2ce2edfecfd0d",
   "execution_count": null
  },
  {
   "cell_type": "code",
   "outputs": [],
   "source": [],
   "metadata": {
    "collapsed": false,
    "ExecuteTime": {
     "start_time": "2024-01-27T23:47:07.022976800Z"
    }
   },
   "id": "6f6738e8a3fc2899"
  }
 ],
 "metadata": {
  "kernelspec": {
   "display_name": "Python 3",
   "language": "python",
   "name": "python3"
  },
  "language_info": {
   "codemirror_mode": {
    "name": "ipython",
    "version": 2
   },
   "file_extension": ".py",
   "mimetype": "text/x-python",
   "name": "python",
   "nbconvert_exporter": "python",
   "pygments_lexer": "ipython2",
   "version": "2.7.6"
  }
 },
 "nbformat": 4,
 "nbformat_minor": 5
}
