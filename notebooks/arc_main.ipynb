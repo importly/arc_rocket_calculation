{
 "cells": [
  {
   "cell_type": "code",
   "execution_count": 184,
   "id": "initial_id",
   "metadata": {
    "ExecuteTime": {
     "end_time": "2024-02-05T05:14:12.652108400Z",
     "start_time": "2024-02-05T05:14:12.645008500Z"
    }
   },
   "outputs": [],
   "source": [
    "import math\n",
    "\n",
    "import matplotlib.pyplot as plt\n",
    "import numpy as np"
   ]
  },
  {
   "cell_type": "code",
   "execution_count": 185,
   "id": "a3bbe8fe5a9ad3ec",
   "metadata": {
    "collapsed": false,
    "ExecuteTime": {
     "end_time": "2024-02-05T05:14:12.698811500Z",
     "start_time": "2024-02-05T05:14:12.663139200Z"
    }
   },
   "outputs": [],
   "source": [
    "class Rocket:\n",
    "    def __init__(self, position=0, velocity=0, acceleration=np.array([0, 0, 0]),\n",
    "                 rocket_mass=(648.0-81.0)/1000, engine_mass=51.0/1000, propellant_mass=30/1000, force=0.0, gravity=9.81, cross_sectional_area=0.00342, drag_coefficient=0.473, air_density=1.223, motor_burn_time=1.0, motor_thrust=67.0, motor_impulse=65.0, burnout_velocity=0.0, altitude_at_burnout=0.0, coasting_distance=0.0, boost_mass=0.0, coast_mass=0.0, boost_gravity_force=0.0, coast_gravity_force=0.0, air_drag_coefficient=0.0, air_resistance=0.0, burnout_time=0.0, apogee =250.0):\n",
    "        self.s = position  # position\n",
    "        self.v = velocity  # velocity\n",
    "        self.a = acceleration  # acceleration\n",
    "        self.t = 0.0  # time\n",
    "\n",
    "        # Rocket Equations\n",
    "        self.mR = rocket_mass  # rocket mass in kg\n",
    "        self.mE = engine_mass  # engine mass (including propellant) in kg\n",
    "        self.mP = propellant_mass  # propellant mass in kg\n",
    "        self.F = force  # force in kg . m/s2\n",
    "        self.g = gravity  # acceleration of gravity = 9.81 m/s2\n",
    "        self.A = cross_sectional_area  # rocket cross-sectional area in m2\n",
    "        self.cd = drag_coefficient  # drag coefficient = 0.75 for average rocket\n",
    "        self.rho = air_density  # air density = 1.223 kg/m3\n",
    "        self.tau = motor_burn_time  # motor burn time in seconds\n",
    "        self.T = motor_thrust  # motor thrust in Newton i.e. in kg . m/s2\n",
    "        self.I = motor_impulse  # motor impulse in Newton . seconds\n",
    "        self.v_tau = burnout_velocity  # burnout velocity in m/s\n",
    "        self.hB = altitude_at_burnout  # altitude at burnout in m\n",
    "        self.hC = coasting_distance  # coasting distance in m\n",
    "        self.mB = boost_mass  # boost mass in kg\n",
    "        self.mC = coast_mass  # coast mass in kg\n",
    "        self.gmB = boost_gravity_force  # boost gravity force in kg . m/s2\n",
    "        self.gmC = coast_gravity_force  # coast gravity force in kg . m/s2\n",
    "        self.Ack = air_drag_coefficient  # air drag coefficient in kg/m\n",
    "        self.vk = air_resistance  # air resistance in kg . m/s2\n",
    "        self.tau_burnout = burnout_time  # burnout time in seconds\n",
    "        self.apogee = apogee  # apogee in m\n",
    "        self.fin_angle = 0.0  # fin angle in degrees\n",
    "\n",
    "\n",
    "    def calculate_sum(self):\n",
    "        return self.mR + self.mE\n",
    "    \n",
    "    def find_k(self):\n",
    "        return self.cd * self.A * self.rho / 2\n",
    "\n",
    "\n",
    "    def angle_adjustment(self):\n",
    "        angle = math.degrees(math.acos(self.calculate_difference() / (\n",
    "                    self.calculate_sum() / (2 * self.find_k()) * math.log(1 + (self.find_k() * self.v * self.v) / (self.calculate_sum() * self.g)))))\n",
    "        new = max(-90, min(90, angle)) - self.fin_angle\n",
    "\n",
    "        self.fin_angle = max(-90, min(90, new))\n",
    "        return new\n",
    "\n",
    "    def calculate_difference(self):\n",
    "        return self.apogee - self.s\n",
    "    \n",
    "    def calculate_division(self):\n",
    "        return self.calculate_sum() / (2 * self.cd)\n",
    "    \n",
    "    def calculate_square(self):\n",
    "        return self.v * self.v\n",
    "    \n"
   ]
  },
  {
   "cell_type": "code",
   "outputs": [],
   "source": [
    "r = Rocket(position=47.3, velocity=85.66)"
   ],
   "metadata": {
    "collapsed": false,
    "ExecuteTime": {
     "end_time": "2024-02-05T05:14:12.707010Z",
     "start_time": "2024-02-05T05:14:12.681960Z"
    }
   },
   "id": "990cf3ec70aa6a3f",
   "execution_count": 186
  },
  {
   "cell_type": "code",
   "outputs": [
    {
     "data": {
      "text/plain": "34.48113085686729"
     },
     "execution_count": 187,
     "metadata": {},
     "output_type": "execute_result"
    }
   ],
   "source": [
    "r.angle_adjustment()"
   ],
   "metadata": {
    "collapsed": false,
    "ExecuteTime": {
     "end_time": "2024-02-05T05:14:12.721162400Z",
     "start_time": "2024-02-05T05:14:12.691755800Z"
    }
   },
   "id": "96ce8d8b9910bc2b",
   "execution_count": 187
  },
  {
   "cell_type": "code",
   "outputs": [
    {
     "data": {
      "text/plain": "array([[ 34.48113086,  -1.4228486 ,  32.94881003, ...,   0.        ,\n          0.        ,   0.        ],\n       [ 14.29116862,  19.11759519,  12.78001665, ...,   0.        ,\n          0.        ,   0.        ],\n       [ 34.14034798,  -0.38432327,  32.64975184, ...,   0.        ,\n          0.        ,   0.        ],\n       ...,\n       [ 94.88538542,  -0.38416701,  89.99345108, ...,   0.        ,\n          0.        ,   0.        ],\n       [ 33.61287173,  56.19504585,  33.60959732, ...,   0.        ,\n          0.        ,   0.        ],\n       [100.41987077,   0.        ,  90.        , ...,  90.        ,\n          0.        ,  90.        ]])"
     },
     "execution_count": 188,
     "metadata": {},
     "output_type": "execute_result"
    }
   ],
   "source": [
    "def calculate_angle_adjustments():\n",
    "    # Define the range of values for position and velocity\n",
    "    positions = np.linspace(47.3, 250, num=251)\n",
    "    velocities = np.linspace(85.66, 0.1, num=85)\n",
    "\n",
    "    # Initialize a 2D array to store the angle adjustments\n",
    "    angle_adjustments = np.zeros((len(positions), len(velocities)))\n",
    "\n",
    "    r = Rocket(position=positions[0], velocity=velocities[0])\n",
    "\n",
    "    # Iterate over all combinations of position and velocity\n",
    "    for i, position in enumerate(positions):\n",
    "        for j, velocity in enumerate(velocities):\n",
    "            # Create a new Rocket object with the current position and velocity\n",
    "            r.s = position\n",
    "            r.v = velocity\n",
    "            try:\n",
    "                # Calculate the angle adjustment and store it in the array\n",
    "                angle_adjustments[i, j] = r.angle_adjustment()\n",
    "            except Exception:\n",
    "                # If an error occurs, set the angle adjustment to 0\n",
    "                angle_adjustments[i, j] = 0\n",
    "\n",
    "    return angle_adjustments\n",
    "\n",
    "\n",
    "# Call the function and print the result\n",
    "angle_adjustments = calculate_angle_adjustments()\n",
    "angle_adjustments"
   ],
   "metadata": {
    "collapsed": false,
    "ExecuteTime": {
     "end_time": "2024-02-05T05:14:13.135541900Z",
     "start_time": "2024-02-05T05:14:12.717115100Z"
    }
   },
   "id": "76efff5314be000c",
   "execution_count": 188
  }
 ],
 "metadata": {
  "kernelspec": {
   "display_name": "Python 3 (ipykernel)",
   "language": "python",
   "name": "python3"
  },
  "language_info": {
   "codemirror_mode": {
    "name": "ipython",
    "version": 3
   },
   "file_extension": ".py",
   "mimetype": "text/x-python",
   "name": "python",
   "nbconvert_exporter": "python",
   "pygments_lexer": "ipython3",
   "version": "3.11.7"
  }
 },
 "nbformat": 4,
 "nbformat_minor": 5
}
